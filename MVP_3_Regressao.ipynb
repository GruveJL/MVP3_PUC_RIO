{
  "nbformat": 4,
  "nbformat_minor": 0,
  "metadata": {
    "colab": {
      "provenance": [],
      "toc_visible": true,
      "authorship_tag": "ABX9TyNjtwHRqiKIMefv2TEYGDQD",
      "include_colab_link": true
    },
    "kernelspec": {
      "name": "python3",
      "display_name": "Python 3"
    },
    "language_info": {
      "name": "python"
    }
  },
  "cells": [
    {
      "cell_type": "markdown",
      "metadata": {
        "id": "view-in-github",
        "colab_type": "text"
      },
      "source": [
        "<a href=\"https://colab.research.google.com/github/GruveJL/MVP3_PUC_RIO/blob/main/MVP_3_Regressao.ipynb\" target=\"_parent\"><img src=\"https://colab.research.google.com/assets/colab-badge.svg\" alt=\"Open In Colab\"/></a>"
      ]
    },
    {
      "cell_type": "markdown",
      "source": [
        "# **MVP 3 - Machine Learning & Analytics**\n",
        "\n",
        "**Nome:** Juan Carlos da Silva Rodrigues de Lima\n",
        "\n",
        "**Matrícula:** 4052025000033"
      ],
      "metadata": {
        "id": "C2DTI-m7zxYN"
      }
    },
    {
      "cell_type": "markdown",
      "source": [
        "# **Proposta do Projeto**"
      ],
      "metadata": {
        "id": "9Ac9qPYSz6tC"
      }
    },
    {
      "cell_type": "markdown",
      "source": [
        "A ideia do projeto é fazer um MVP para praticar a aplicação de um modelo de Machine Learning em um Banco de Dados. O foco aqui será a exploração e compreensão dos dados, além de testar alguns tipos de modelos, avaliando seus resultados e entendendo qual deles teve mais \"*fit*\" ao conjunto dos dados disponíveis."
      ],
      "metadata": {
        "id": "CtGo-P6lumJb"
      }
    },
    {
      "cell_type": "markdown",
      "source": [
        "Os Arquivos e pastas estão hospedados no Google Drive nos links abaixo:\n",
        "* [Arquivo](https://colab.research.google.com/drive/1c4lABjnrupla1RFAvOfg6f-5tRqFp-dt?usp=drive_link)\n",
        "* [Dataset Original](https://drive.google.com/file/d/14wEv9mRXmUyT0z_TNFRF_O95gcS0Li8c/view?usp=drive_link)\n",
        "* [Pasta do Projeto no Drive](https://drive.google.com/drive/folders/1bQO6TRw0ohoOZPXk2MxwIzeh3zHjIxDA?usp=drive_link)\n",
        "\n",
        "E como referência neste repo do Github"
      ],
      "metadata": {
        "id": "O9Hqw70-OzKM"
      }
    },
    {
      "cell_type": "markdown",
      "source": [
        "#**Dataset**"
      ],
      "metadata": {
        "id": "YRg0OXUS0HE5"
      }
    },
    {
      "cell_type": "markdown",
      "source": [
        "Usarei aqui um conjunto de dados reduzido em tamanho para que os devidos testes com os modelos sejam mais performáticos. A fonte de dados foi o repositório  [Kaggle](https://www.kaggle.com/) um site com diversas bases de dados disponíveis para tratamento e aplicação de análises e modelos.\n",
        "\n",
        "O Banco de dados escolhido relaciona o preço do plano de saúde (insurence) cobrado nos Estados Unidos da América com algumas características do assegurado.\n",
        "\n",
        "O Dataset pode ser encontrado [**aqui**](https://www.kaggle.com/datasets/mosapabdelghany/medical-insurance-cost-dataset)"
      ],
      "metadata": {
        "id": "jLUiq9dovE9w"
      }
    },
    {
      "cell_type": "markdown",
      "source": [
        "## Seleção e Atributos de Dados"
      ],
      "metadata": {
        "id": "GO1tKalu0P3Q"
      }
    },
    {
      "cell_type": "markdown",
      "source": [
        "O Dataset possui **1338** entradas com **7 colunas** incluindo a coluna de valor do seguro.\n",
        "\n",
        "Para nosso projeto usaremos todas as colunas, segue descrição:\n",
        "* **age** - Idade do beneficiário do plano. | Int\n",
        "* **sex** - Gênero do beneficiário. | String\n",
        "* **bmi** - IMC (Índice de Massa Corporal), métrica de correlacionamento entre massa e altura corporal, medida dividindo peso pela altura ao quadrado. | Float\n",
        "* **children** - Quantidade de crianças cobertas pelo plano. | Int\n",
        "* **smoker** - Situação de fumante do beneficiário. | String\n",
        "* **region** - Região dos EUA no qual reside o beneficiário. | String\n",
        "* **charges** - Custo do plano para o beneficiário em questão. | Float\n"
      ],
      "metadata": {
        "id": "fia0PUJkxNSh"
      }
    },
    {
      "cell_type": "markdown",
      "source": [
        "# **Hipóteses do Problema**"
      ],
      "metadata": {
        "id": "NxCrnvAb0JIT"
      }
    },
    {
      "cell_type": "markdown",
      "source": [
        "Temos dois tipos de problema que tentarei resolver:\n",
        "* Entender se apenas com esses dados é possível treinar um modelo para prever o custo de um plano de saúde.\n",
        "\n",
        "* Avaliar a diferença de preço dadas as categorias.\n"
      ],
      "metadata": {
        "id": "HNN4_2xQ3W0Y"
      }
    },
    {
      "cell_type": "markdown",
      "source": [
        "### Hipóteses"
      ],
      "metadata": {
        "id": "i3h2K_7U6vQ8"
      }
    },
    {
      "cell_type": "markdown",
      "source": [
        "O primeiro problema é uma questão exploratória, essa base é uma das mais baixadas na plataforma, diversos trabalhos foram realizados e a dúvida é se conseguimos com poucas variáveis um modelos acertivo.\n",
        "\n",
        "Já o segundo, tentaremos entender se há uma correlação explicita entre as variáveis e o senso comum sobre elas, por exemplo que pessoas fumantes, ou com muitos filhos, ou até mesmo as do gênero feminino terem uma conta de plano maior por aprensentarem mais riscos as seguradoras.\n",
        "\n",
        "Por ser um Dataset pequeno usarei todos os dados disponíveis exceto linhas julgadas necessárias serem retiradas pelo processo de tratamento dos dados."
      ],
      "metadata": {
        "id": "peJJQtfD61Sp"
      }
    },
    {
      "cell_type": "markdown",
      "source": [
        "### Tipo de Problema"
      ],
      "metadata": {
        "id": "ipM4BpTK0MoY"
      }
    },
    {
      "cell_type": "markdown",
      "source": [
        "Trata-se de um caso clássico de Regressão Linear, no qual tentaremos prever os preços dadas as caracteristicas disponíveis, a ideia aqui será testar pelo menos 3 tipos de modelos, entender qual deles tem melhores resultados e a partir deles tirar as devidas conclusões sob as hipóteses apresentadas."
      ],
      "metadata": {
        "id": "mwa4N7RC878U"
      }
    },
    {
      "cell_type": "markdown",
      "source": [
        "# Importação das Bibliotecas Necessárias e Carga de Dados\n",
        "\n",
        "Aqui importaremos todas as Bibliotecas necessárias e as Bases a serem utilizadas."
      ],
      "metadata": {
        "id": "bN2F0OWz0TQw"
      }
    },
    {
      "cell_type": "code",
      "source": [
        "# Bibliotecas\n",
        "import pandas as pd\n",
        "import numpy as np\n",
        "import matplotlib.pyplot as plt\n",
        "import seaborn as sns\n",
        "from sklearn.model_selection import train_test_split\n",
        "from sklearn.preprocessing import StandardScaler, MinMaxScaler, OneHotEncoder"
      ],
      "metadata": {
        "id": "jY60zv5Z9L1l"
      },
      "execution_count": 2,
      "outputs": []
    },
    {
      "cell_type": "markdown",
      "source": [
        "A base foi baixada do Kaggle e hospedada no drive com acesso público."
      ],
      "metadata": {
        "id": "G2szAQMKFVZR"
      }
    },
    {
      "cell_type": "code",
      "source": [
        "# Import biblioteca para consumo do Drive\n",
        "from google.colab import drive\n",
        "drive.mount('/content/drive')"
      ],
      "metadata": {
        "colab": {
          "base_uri": "https://localhost:8080/"
        },
        "id": "9laNlEJ6FTfi",
        "outputId": "a3c64365-2fc4-475d-fa8a-b3bb4a31469c"
      },
      "execution_count": 3,
      "outputs": [
        {
          "output_type": "stream",
          "name": "stdout",
          "text": [
            "Mounted at /content/drive\n"
          ]
        }
      ]
    },
    {
      "cell_type": "code",
      "source": [
        "# Url do caminho do arquivo no Drive\n",
        "url_insure = \"/content/drive/MyDrive/MVP3/Datasets/insurance.csv\""
      ],
      "metadata": {
        "id": "9LYRVc9xGSHu"
      },
      "execution_count": 4,
      "outputs": []
    },
    {
      "cell_type": "code",
      "source": [
        "# Importanto os Dataset\n",
        "dataset_insure = pd.read_csv(url_insure, delimiter=',');"
      ],
      "metadata": {
        "id": "MOVNHDcVG8Dz"
      },
      "execution_count": 5,
      "outputs": []
    },
    {
      "cell_type": "code",
      "source": [
        "# Preview dos Dados\n",
        "dataset_insure.head()"
      ],
      "metadata": {
        "colab": {
          "base_uri": "https://localhost:8080/",
          "height": 206
        },
        "id": "T7a7vP5nHJ7z",
        "outputId": "85462e52-9339-494c-afb7-78e93f139dae"
      },
      "execution_count": 6,
      "outputs": [
        {
          "output_type": "execute_result",
          "data": {
            "text/plain": [
              "   age     sex     bmi  children smoker     region      charges\n",
              "0   19  female  27.900         0    yes  southwest  16884.92400\n",
              "1   18    male  33.770         1     no  southeast   1725.55230\n",
              "2   28    male  33.000         3     no  southeast   4449.46200\n",
              "3   33    male  22.705         0     no  northwest  21984.47061\n",
              "4   32    male  28.880         0     no  northwest   3866.85520"
            ],
            "text/html": [
              "\n",
              "  <div id=\"df-342e2a68-d6f0-4766-a5f9-ad4a5e972ae7\" class=\"colab-df-container\">\n",
              "    <div>\n",
              "<style scoped>\n",
              "    .dataframe tbody tr th:only-of-type {\n",
              "        vertical-align: middle;\n",
              "    }\n",
              "\n",
              "    .dataframe tbody tr th {\n",
              "        vertical-align: top;\n",
              "    }\n",
              "\n",
              "    .dataframe thead th {\n",
              "        text-align: right;\n",
              "    }\n",
              "</style>\n",
              "<table border=\"1\" class=\"dataframe\">\n",
              "  <thead>\n",
              "    <tr style=\"text-align: right;\">\n",
              "      <th></th>\n",
              "      <th>age</th>\n",
              "      <th>sex</th>\n",
              "      <th>bmi</th>\n",
              "      <th>children</th>\n",
              "      <th>smoker</th>\n",
              "      <th>region</th>\n",
              "      <th>charges</th>\n",
              "    </tr>\n",
              "  </thead>\n",
              "  <tbody>\n",
              "    <tr>\n",
              "      <th>0</th>\n",
              "      <td>19</td>\n",
              "      <td>female</td>\n",
              "      <td>27.900</td>\n",
              "      <td>0</td>\n",
              "      <td>yes</td>\n",
              "      <td>southwest</td>\n",
              "      <td>16884.92400</td>\n",
              "    </tr>\n",
              "    <tr>\n",
              "      <th>1</th>\n",
              "      <td>18</td>\n",
              "      <td>male</td>\n",
              "      <td>33.770</td>\n",
              "      <td>1</td>\n",
              "      <td>no</td>\n",
              "      <td>southeast</td>\n",
              "      <td>1725.55230</td>\n",
              "    </tr>\n",
              "    <tr>\n",
              "      <th>2</th>\n",
              "      <td>28</td>\n",
              "      <td>male</td>\n",
              "      <td>33.000</td>\n",
              "      <td>3</td>\n",
              "      <td>no</td>\n",
              "      <td>southeast</td>\n",
              "      <td>4449.46200</td>\n",
              "    </tr>\n",
              "    <tr>\n",
              "      <th>3</th>\n",
              "      <td>33</td>\n",
              "      <td>male</td>\n",
              "      <td>22.705</td>\n",
              "      <td>0</td>\n",
              "      <td>no</td>\n",
              "      <td>northwest</td>\n",
              "      <td>21984.47061</td>\n",
              "    </tr>\n",
              "    <tr>\n",
              "      <th>4</th>\n",
              "      <td>32</td>\n",
              "      <td>male</td>\n",
              "      <td>28.880</td>\n",
              "      <td>0</td>\n",
              "      <td>no</td>\n",
              "      <td>northwest</td>\n",
              "      <td>3866.85520</td>\n",
              "    </tr>\n",
              "  </tbody>\n",
              "</table>\n",
              "</div>\n",
              "    <div class=\"colab-df-buttons\">\n",
              "\n",
              "  <div class=\"colab-df-container\">\n",
              "    <button class=\"colab-df-convert\" onclick=\"convertToInteractive('df-342e2a68-d6f0-4766-a5f9-ad4a5e972ae7')\"\n",
              "            title=\"Convert this dataframe to an interactive table.\"\n",
              "            style=\"display:none;\">\n",
              "\n",
              "  <svg xmlns=\"http://www.w3.org/2000/svg\" height=\"24px\" viewBox=\"0 -960 960 960\">\n",
              "    <path d=\"M120-120v-720h720v720H120Zm60-500h600v-160H180v160Zm220 220h160v-160H400v160Zm0 220h160v-160H400v160ZM180-400h160v-160H180v160Zm440 0h160v-160H620v160ZM180-180h160v-160H180v160Zm440 0h160v-160H620v160Z\"/>\n",
              "  </svg>\n",
              "    </button>\n",
              "\n",
              "  <style>\n",
              "    .colab-df-container {\n",
              "      display:flex;\n",
              "      gap: 12px;\n",
              "    }\n",
              "\n",
              "    .colab-df-convert {\n",
              "      background-color: #E8F0FE;\n",
              "      border: none;\n",
              "      border-radius: 50%;\n",
              "      cursor: pointer;\n",
              "      display: none;\n",
              "      fill: #1967D2;\n",
              "      height: 32px;\n",
              "      padding: 0 0 0 0;\n",
              "      width: 32px;\n",
              "    }\n",
              "\n",
              "    .colab-df-convert:hover {\n",
              "      background-color: #E2EBFA;\n",
              "      box-shadow: 0px 1px 2px rgba(60, 64, 67, 0.3), 0px 1px 3px 1px rgba(60, 64, 67, 0.15);\n",
              "      fill: #174EA6;\n",
              "    }\n",
              "\n",
              "    .colab-df-buttons div {\n",
              "      margin-bottom: 4px;\n",
              "    }\n",
              "\n",
              "    [theme=dark] .colab-df-convert {\n",
              "      background-color: #3B4455;\n",
              "      fill: #D2E3FC;\n",
              "    }\n",
              "\n",
              "    [theme=dark] .colab-df-convert:hover {\n",
              "      background-color: #434B5C;\n",
              "      box-shadow: 0px 1px 3px 1px rgba(0, 0, 0, 0.15);\n",
              "      filter: drop-shadow(0px 1px 2px rgba(0, 0, 0, 0.3));\n",
              "      fill: #FFFFFF;\n",
              "    }\n",
              "  </style>\n",
              "\n",
              "    <script>\n",
              "      const buttonEl =\n",
              "        document.querySelector('#df-342e2a68-d6f0-4766-a5f9-ad4a5e972ae7 button.colab-df-convert');\n",
              "      buttonEl.style.display =\n",
              "        google.colab.kernel.accessAllowed ? 'block' : 'none';\n",
              "\n",
              "      async function convertToInteractive(key) {\n",
              "        const element = document.querySelector('#df-342e2a68-d6f0-4766-a5f9-ad4a5e972ae7');\n",
              "        const dataTable =\n",
              "          await google.colab.kernel.invokeFunction('convertToInteractive',\n",
              "                                                    [key], {});\n",
              "        if (!dataTable) return;\n",
              "\n",
              "        const docLinkHtml = 'Like what you see? Visit the ' +\n",
              "          '<a target=\"_blank\" href=https://colab.research.google.com/notebooks/data_table.ipynb>data table notebook</a>'\n",
              "          + ' to learn more about interactive tables.';\n",
              "        element.innerHTML = '';\n",
              "        dataTable['output_type'] = 'display_data';\n",
              "        await google.colab.output.renderOutput(dataTable, element);\n",
              "        const docLink = document.createElement('div');\n",
              "        docLink.innerHTML = docLinkHtml;\n",
              "        element.appendChild(docLink);\n",
              "      }\n",
              "    </script>\n",
              "  </div>\n",
              "\n",
              "\n",
              "    <div id=\"df-1a29e9d6-7b06-48b7-b6bb-432b02f416c6\">\n",
              "      <button class=\"colab-df-quickchart\" onclick=\"quickchart('df-1a29e9d6-7b06-48b7-b6bb-432b02f416c6')\"\n",
              "                title=\"Suggest charts\"\n",
              "                style=\"display:none;\">\n",
              "\n",
              "<svg xmlns=\"http://www.w3.org/2000/svg\" height=\"24px\"viewBox=\"0 0 24 24\"\n",
              "     width=\"24px\">\n",
              "    <g>\n",
              "        <path d=\"M19 3H5c-1.1 0-2 .9-2 2v14c0 1.1.9 2 2 2h14c1.1 0 2-.9 2-2V5c0-1.1-.9-2-2-2zM9 17H7v-7h2v7zm4 0h-2V7h2v10zm4 0h-2v-4h2v4z\"/>\n",
              "    </g>\n",
              "</svg>\n",
              "      </button>\n",
              "\n",
              "<style>\n",
              "  .colab-df-quickchart {\n",
              "      --bg-color: #E8F0FE;\n",
              "      --fill-color: #1967D2;\n",
              "      --hover-bg-color: #E2EBFA;\n",
              "      --hover-fill-color: #174EA6;\n",
              "      --disabled-fill-color: #AAA;\n",
              "      --disabled-bg-color: #DDD;\n",
              "  }\n",
              "\n",
              "  [theme=dark] .colab-df-quickchart {\n",
              "      --bg-color: #3B4455;\n",
              "      --fill-color: #D2E3FC;\n",
              "      --hover-bg-color: #434B5C;\n",
              "      --hover-fill-color: #FFFFFF;\n",
              "      --disabled-bg-color: #3B4455;\n",
              "      --disabled-fill-color: #666;\n",
              "  }\n",
              "\n",
              "  .colab-df-quickchart {\n",
              "    background-color: var(--bg-color);\n",
              "    border: none;\n",
              "    border-radius: 50%;\n",
              "    cursor: pointer;\n",
              "    display: none;\n",
              "    fill: var(--fill-color);\n",
              "    height: 32px;\n",
              "    padding: 0;\n",
              "    width: 32px;\n",
              "  }\n",
              "\n",
              "  .colab-df-quickchart:hover {\n",
              "    background-color: var(--hover-bg-color);\n",
              "    box-shadow: 0 1px 2px rgba(60, 64, 67, 0.3), 0 1px 3px 1px rgba(60, 64, 67, 0.15);\n",
              "    fill: var(--button-hover-fill-color);\n",
              "  }\n",
              "\n",
              "  .colab-df-quickchart-complete:disabled,\n",
              "  .colab-df-quickchart-complete:disabled:hover {\n",
              "    background-color: var(--disabled-bg-color);\n",
              "    fill: var(--disabled-fill-color);\n",
              "    box-shadow: none;\n",
              "  }\n",
              "\n",
              "  .colab-df-spinner {\n",
              "    border: 2px solid var(--fill-color);\n",
              "    border-color: transparent;\n",
              "    border-bottom-color: var(--fill-color);\n",
              "    animation:\n",
              "      spin 1s steps(1) infinite;\n",
              "  }\n",
              "\n",
              "  @keyframes spin {\n",
              "    0% {\n",
              "      border-color: transparent;\n",
              "      border-bottom-color: var(--fill-color);\n",
              "      border-left-color: var(--fill-color);\n",
              "    }\n",
              "    20% {\n",
              "      border-color: transparent;\n",
              "      border-left-color: var(--fill-color);\n",
              "      border-top-color: var(--fill-color);\n",
              "    }\n",
              "    30% {\n",
              "      border-color: transparent;\n",
              "      border-left-color: var(--fill-color);\n",
              "      border-top-color: var(--fill-color);\n",
              "      border-right-color: var(--fill-color);\n",
              "    }\n",
              "    40% {\n",
              "      border-color: transparent;\n",
              "      border-right-color: var(--fill-color);\n",
              "      border-top-color: var(--fill-color);\n",
              "    }\n",
              "    60% {\n",
              "      border-color: transparent;\n",
              "      border-right-color: var(--fill-color);\n",
              "    }\n",
              "    80% {\n",
              "      border-color: transparent;\n",
              "      border-right-color: var(--fill-color);\n",
              "      border-bottom-color: var(--fill-color);\n",
              "    }\n",
              "    90% {\n",
              "      border-color: transparent;\n",
              "      border-bottom-color: var(--fill-color);\n",
              "    }\n",
              "  }\n",
              "</style>\n",
              "\n",
              "      <script>\n",
              "        async function quickchart(key) {\n",
              "          const quickchartButtonEl =\n",
              "            document.querySelector('#' + key + ' button');\n",
              "          quickchartButtonEl.disabled = true;  // To prevent multiple clicks.\n",
              "          quickchartButtonEl.classList.add('colab-df-spinner');\n",
              "          try {\n",
              "            const charts = await google.colab.kernel.invokeFunction(\n",
              "                'suggestCharts', [key], {});\n",
              "          } catch (error) {\n",
              "            console.error('Error during call to suggestCharts:', error);\n",
              "          }\n",
              "          quickchartButtonEl.classList.remove('colab-df-spinner');\n",
              "          quickchartButtonEl.classList.add('colab-df-quickchart-complete');\n",
              "        }\n",
              "        (() => {\n",
              "          let quickchartButtonEl =\n",
              "            document.querySelector('#df-1a29e9d6-7b06-48b7-b6bb-432b02f416c6 button');\n",
              "          quickchartButtonEl.style.display =\n",
              "            google.colab.kernel.accessAllowed ? 'block' : 'none';\n",
              "        })();\n",
              "      </script>\n",
              "    </div>\n",
              "\n",
              "    </div>\n",
              "  </div>\n"
            ],
            "application/vnd.google.colaboratory.intrinsic+json": {
              "type": "dataframe",
              "variable_name": "dataset_insure",
              "summary": "{\n  \"name\": \"dataset_insure\",\n  \"rows\": 1338,\n  \"fields\": [\n    {\n      \"column\": \"age\",\n      \"properties\": {\n        \"dtype\": \"number\",\n        \"std\": 14,\n        \"min\": 18,\n        \"max\": 64,\n        \"num_unique_values\": 47,\n        \"samples\": [\n          21,\n          45,\n          36\n        ],\n        \"semantic_type\": \"\",\n        \"description\": \"\"\n      }\n    },\n    {\n      \"column\": \"sex\",\n      \"properties\": {\n        \"dtype\": \"category\",\n        \"num_unique_values\": 2,\n        \"samples\": [\n          \"male\",\n          \"female\"\n        ],\n        \"semantic_type\": \"\",\n        \"description\": \"\"\n      }\n    },\n    {\n      \"column\": \"bmi\",\n      \"properties\": {\n        \"dtype\": \"number\",\n        \"std\": 6.098186911679017,\n        \"min\": 15.96,\n        \"max\": 53.13,\n        \"num_unique_values\": 548,\n        \"samples\": [\n          23.18,\n          26.885\n        ],\n        \"semantic_type\": \"\",\n        \"description\": \"\"\n      }\n    },\n    {\n      \"column\": \"children\",\n      \"properties\": {\n        \"dtype\": \"number\",\n        \"std\": 1,\n        \"min\": 0,\n        \"max\": 5,\n        \"num_unique_values\": 6,\n        \"samples\": [\n          0,\n          1\n        ],\n        \"semantic_type\": \"\",\n        \"description\": \"\"\n      }\n    },\n    {\n      \"column\": \"smoker\",\n      \"properties\": {\n        \"dtype\": \"category\",\n        \"num_unique_values\": 2,\n        \"samples\": [\n          \"no\",\n          \"yes\"\n        ],\n        \"semantic_type\": \"\",\n        \"description\": \"\"\n      }\n    },\n    {\n      \"column\": \"region\",\n      \"properties\": {\n        \"dtype\": \"category\",\n        \"num_unique_values\": 4,\n        \"samples\": [\n          \"southeast\",\n          \"northeast\"\n        ],\n        \"semantic_type\": \"\",\n        \"description\": \"\"\n      }\n    },\n    {\n      \"column\": \"charges\",\n      \"properties\": {\n        \"dtype\": \"number\",\n        \"std\": 12110.011236693994,\n        \"min\": 1121.8739,\n        \"max\": 63770.42801,\n        \"num_unique_values\": 1337,\n        \"samples\": [\n          8688.85885,\n          5708.867\n        ],\n        \"semantic_type\": \"\",\n        \"description\": \"\"\n      }\n    }\n  ]\n}"
            }
          },
          "metadata": {},
          "execution_count": 6
        }
      ]
    },
    {
      "cell_type": "markdown",
      "source": [
        "# **Tratamentos**"
      ],
      "metadata": {
        "id": "qGaqnV5v0aPt"
      }
    },
    {
      "cell_type": "markdown",
      "source": [
        "Aqui iremos entender um pouco melhor o Dataset, ver dados faltantes e fazer alguns tratamentos para deixa a base de dados melhor utilizável.\n",
        "\n",
        "Aparentemente essa é uma base já limpa, portanto serão feitos pequenos ajustes para assegurar a qualidade dos dados."
      ],
      "metadata": {
        "id": "Uu2k70VdCYYi"
      }
    },
    {
      "cell_type": "markdown",
      "source": [
        "Iniciaremos com as validações padrão, entender os tipos dos dados, se há muitos nulos em alguma coluna, se há repetições, e avaliar um possivel ajuste nas variáveis categóricas."
      ],
      "metadata": {
        "id": "WsK7ll3-Hc64"
      }
    },
    {
      "cell_type": "code",
      "source": [
        "# Describe dos dados\n",
        "dataset_insure.info()"
      ],
      "metadata": {
        "colab": {
          "base_uri": "https://localhost:8080/"
        },
        "id": "e3Q4VE0HH0Cp",
        "outputId": "5b3c0580-7d28-497d-cdec-605d6cfe022f"
      },
      "execution_count": 7,
      "outputs": [
        {
          "output_type": "stream",
          "name": "stdout",
          "text": [
            "<class 'pandas.core.frame.DataFrame'>\n",
            "RangeIndex: 1338 entries, 0 to 1337\n",
            "Data columns (total 7 columns):\n",
            " #   Column    Non-Null Count  Dtype  \n",
            "---  ------    --------------  -----  \n",
            " 0   age       1338 non-null   int64  \n",
            " 1   sex       1338 non-null   object \n",
            " 2   bmi       1338 non-null   float64\n",
            " 3   children  1338 non-null   int64  \n",
            " 4   smoker    1338 non-null   object \n",
            " 5   region    1338 non-null   object \n",
            " 6   charges   1338 non-null   float64\n",
            "dtypes: float64(2), int64(2), object(3)\n",
            "memory usage: 73.3+ KB\n"
          ]
        }
      ]
    },
    {
      "cell_type": "markdown",
      "source": [
        "Tipos de dados validados conforme esperado."
      ],
      "metadata": {
        "id": "sbGl88uOI5P4"
      }
    },
    {
      "cell_type": "code",
      "source": [
        "# Entradas Únicas\n",
        "dataset_insure.nunique()"
      ],
      "metadata": {
        "colab": {
          "base_uri": "https://localhost:8080/",
          "height": 304
        },
        "id": "agZJUrlMI23Z",
        "outputId": "a2512259-2c47-4922-ea4b-a0c9c42d6be4"
      },
      "execution_count": 8,
      "outputs": [
        {
          "output_type": "execute_result",
          "data": {
            "text/plain": [
              "age           47\n",
              "sex            2\n",
              "bmi          548\n",
              "children       6\n",
              "smoker         2\n",
              "region         4\n",
              "charges     1337\n",
              "dtype: int64"
            ],
            "text/html": [
              "<div>\n",
              "<style scoped>\n",
              "    .dataframe tbody tr th:only-of-type {\n",
              "        vertical-align: middle;\n",
              "    }\n",
              "\n",
              "    .dataframe tbody tr th {\n",
              "        vertical-align: top;\n",
              "    }\n",
              "\n",
              "    .dataframe thead th {\n",
              "        text-align: right;\n",
              "    }\n",
              "</style>\n",
              "<table border=\"1\" class=\"dataframe\">\n",
              "  <thead>\n",
              "    <tr style=\"text-align: right;\">\n",
              "      <th></th>\n",
              "      <th>0</th>\n",
              "    </tr>\n",
              "  </thead>\n",
              "  <tbody>\n",
              "    <tr>\n",
              "      <th>age</th>\n",
              "      <td>47</td>\n",
              "    </tr>\n",
              "    <tr>\n",
              "      <th>sex</th>\n",
              "      <td>2</td>\n",
              "    </tr>\n",
              "    <tr>\n",
              "      <th>bmi</th>\n",
              "      <td>548</td>\n",
              "    </tr>\n",
              "    <tr>\n",
              "      <th>children</th>\n",
              "      <td>6</td>\n",
              "    </tr>\n",
              "    <tr>\n",
              "      <th>smoker</th>\n",
              "      <td>2</td>\n",
              "    </tr>\n",
              "    <tr>\n",
              "      <th>region</th>\n",
              "      <td>4</td>\n",
              "    </tr>\n",
              "    <tr>\n",
              "      <th>charges</th>\n",
              "      <td>1337</td>\n",
              "    </tr>\n",
              "  </tbody>\n",
              "</table>\n",
              "</div><br><label><b>dtype:</b> int64</label>"
            ]
          },
          "metadata": {},
          "execution_count": 8
        }
      ]
    },
    {
      "cell_type": "markdown",
      "source": [
        "Como visto anteriormente temos 7 colunas, das quais duas tem apenas dois valores distintos, a coluna \"*sex*\" (male, female) e a coluna \"*smoker*\" (yes, no), irei substituir essas colunas por colunas com valores numéricos (1, 0) apenas para facilitar a visualização e ajudar em otimizações futuras."
      ],
      "metadata": {
        "id": "jMnUj8UF5hQi"
      }
    },
    {
      "cell_type": "code",
      "source": [
        "#Substituindo valores coluna smoker\n",
        "dataset_insure[\"smoker\"] = dataset_insure[\"smoker\"].replace({\"yes\": 1, \"no\": 0}).astype(int)\n",
        "\n",
        "#Substituindo valores coluna smoker\n",
        "dataset_insure[\"sex\"] = dataset_insure[\"sex\"].replace({\"male\": 1, \"female\": 0}).astype(int)"
      ],
      "metadata": {
        "colab": {
          "base_uri": "https://localhost:8080/"
        },
        "id": "0Ga4jEbX6f6e",
        "outputId": "fda4a3c4-60d1-4a93-fa12-fd5343f9c911"
      },
      "execution_count": 9,
      "outputs": [
        {
          "output_type": "stream",
          "name": "stderr",
          "text": [
            "/tmp/ipython-input-1985893109.py:2: FutureWarning: Downcasting behavior in `replace` is deprecated and will be removed in a future version. To retain the old behavior, explicitly call `result.infer_objects(copy=False)`. To opt-in to the future behavior, set `pd.set_option('future.no_silent_downcasting', True)`\n",
            "  dataset_insure[\"smoker\"] = dataset_insure[\"smoker\"].replace({\"yes\": 1, \"no\": 0}).astype(int)\n",
            "/tmp/ipython-input-1985893109.py:5: FutureWarning: Downcasting behavior in `replace` is deprecated and will be removed in a future version. To retain the old behavior, explicitly call `result.infer_objects(copy=False)`. To opt-in to the future behavior, set `pd.set_option('future.no_silent_downcasting', True)`\n",
            "  dataset_insure[\"sex\"] = dataset_insure[\"sex\"].replace({\"male\": 1, \"female\": 0}).astype(int)\n"
          ]
        }
      ]
    },
    {
      "cell_type": "code",
      "source": [
        "# Validando mudança\n",
        "dataset_insure.info()"
      ],
      "metadata": {
        "colab": {
          "base_uri": "https://localhost:8080/"
        },
        "id": "ZMnumdSr8BQL",
        "outputId": "0f6d8804-48a9-4e06-ff65-16793eadc6a1"
      },
      "execution_count": 10,
      "outputs": [
        {
          "output_type": "stream",
          "name": "stdout",
          "text": [
            "<class 'pandas.core.frame.DataFrame'>\n",
            "RangeIndex: 1338 entries, 0 to 1337\n",
            "Data columns (total 7 columns):\n",
            " #   Column    Non-Null Count  Dtype  \n",
            "---  ------    --------------  -----  \n",
            " 0   age       1338 non-null   int64  \n",
            " 1   sex       1338 non-null   int64  \n",
            " 2   bmi       1338 non-null   float64\n",
            " 3   children  1338 non-null   int64  \n",
            " 4   smoker    1338 non-null   int64  \n",
            " 5   region    1338 non-null   object \n",
            " 6   charges   1338 non-null   float64\n",
            "dtypes: float64(2), int64(4), object(1)\n",
            "memory usage: 73.3+ KB\n"
          ]
        }
      ]
    },
    {
      "cell_type": "markdown",
      "source": [
        "Agora irei validar linhas duplicadas, essa etapa será penas para conhecimento, já que a base não possui um identificador único por linha, entretando é importante saber se existem linhas exatamente iguais na base."
      ],
      "metadata": {
        "id": "KW4w8iKt7EC6"
      }
    },
    {
      "cell_type": "code",
      "source": [
        "# Aplicando método Duplicated\n",
        "duplicados = dataset_insure[['age','sex','bmi','children','smoker','region','charges']].duplicated()\n",
        "\n",
        "# soma dos duplicados\n",
        "num_duplicados = duplicados.sum()\n",
        "\n",
        "print(\"Número de Linhas Duplicadas:\", num_duplicados)"
      ],
      "metadata": {
        "colab": {
          "base_uri": "https://localhost:8080/"
        },
        "id": "8uTfrB3C7VVm",
        "outputId": "929937b7-f8b7-41ca-f076-f3a122346804"
      },
      "execution_count": 11,
      "outputs": [
        {
          "output_type": "stream",
          "name": "stdout",
          "text": [
            "Número de Candidatos Duplicados: 1\n"
          ]
        }
      ]
    },
    {
      "cell_type": "markdown",
      "source": [
        "Ao que parece temos uma linha duplicada"
      ],
      "metadata": {
        "id": "UOBiW5YC8Ze2"
      }
    },
    {
      "cell_type": "code",
      "source": [
        "# Mostrar as linhas duplicadas\n",
        "linhas_duplicadas = dataset_insure[dataset_insure[['age','sex','bmi','children','smoker','region','charges']].duplicated(keep=False)]\n",
        "\n",
        "print(linhas_duplicadas)"
      ],
      "metadata": {
        "colab": {
          "base_uri": "https://localhost:8080/"
        },
        "id": "RJ3nAxg18c-u",
        "outputId": "13a0444b-d744-4731-b794-53106b5f611e"
      },
      "execution_count": 14,
      "outputs": [
        {
          "output_type": "stream",
          "name": "stdout",
          "text": [
            "     age  sex    bmi  children  smoker     region    charges\n",
            "195   19    1  30.59         0       0  northwest  1639.5631\n",
            "581   19    1  30.59         0       0  northwest  1639.5631\n"
          ]
        }
      ]
    },
    {
      "cell_type": "markdown",
      "source": [
        "Como nesse caso há apenas duas linhas que possuem exatamente o mesmo valor, irei manter, entretanto me ocorreu a dúvida se podem haver linhas com características de beneficiário iguais, mas com valores de cobrança diferentes, é o que iremos verificar:"
      ],
      "metadata": {
        "id": "9YDJ5Vh49FJh"
      }
    },
    {
      "cell_type": "code",
      "source": [
        "# Aplicando método Duplicated nas colunas de caracteristicas\n",
        "duplicados_sem_valor = dataset_insure[['age','sex','bmi','children','smoker','region']].duplicated()\n",
        "\n",
        "# soma dos duplicados\n",
        "num_duplicados = duplicados_sem_valor.sum()\n",
        "\n",
        "print(\"Número de Linhas Duplicadas:\", num_duplicados)"
      ],
      "metadata": {
        "colab": {
          "base_uri": "https://localhost:8080/"
        },
        "id": "aWDYFmiQ9cQU",
        "outputId": "c9e1366e-96ba-4c11-fe51-9d4532a5ca69"
      },
      "execution_count": 15,
      "outputs": [
        {
          "output_type": "stream",
          "name": "stdout",
          "text": [
            "Número de Linhas Duplicadas: 3\n"
          ]
        }
      ]
    },
    {
      "cell_type": "code",
      "source": [
        "# Mostrar as linhas duplicadas\n",
        "linhas_duplicadas_sem_valor = dataset_insure[dataset_insure[['age','sex','bmi','children','smoker','region',]].duplicated(keep=False)]\n",
        "\n",
        "print(linhas_duplicadas_sem_valor)"
      ],
      "metadata": {
        "colab": {
          "base_uri": "https://localhost:8080/"
        },
        "id": "V0uVEqQs9uDM",
        "outputId": "34330ea9-2333-4ec8-e217-3975a5ea46c7"
      },
      "execution_count": 16,
      "outputs": [
        {
          "output_type": "stream",
          "name": "stdout",
          "text": [
            "     age  sex     bmi  children  smoker     region      charges\n",
            "102   18    0  30.115         0       0  northeast  21344.84670\n",
            "181   18    0  38.280         0       0  southeast   1631.82120\n",
            "195   19    1  30.590         0       0  northwest   1639.56310\n",
            "354   18    0  38.280         0       0  southeast  14133.03775\n",
            "471   18    0  30.115         0       0  northeast   2203.47185\n",
            "581   19    1  30.590         0       0  northwest   1639.56310\n"
          ]
        }
      ]
    },
    {
      "cell_type": "markdown",
      "source": [
        "Como visto temos as linhas **195** e **581** exatamente iguais e mais duas linhas que se duplicam mas oferecem valores diferentes para as mesmas características de beneficiários.\n",
        "\n",
        "Isso pode acontecer devido a falta de alguma outra informação que caracteriza essas linhas, como planos de saúde diferente ou alguma outra característica do beneficiário que correlaciona a diferença no preço.\n",
        "\n",
        "Sendo poucas linhas irei mante-lás, entretanto fica atestado que ao testar a validação do modelo levemos em conta que a lógica para conseguir os valores pode ser **dúbia ou dependente de uma outra variável do qual não temos acesso**."
      ],
      "metadata": {
        "id": "MI1CMM67AMp3"
      }
    },
    {
      "cell_type": "markdown",
      "source": [
        "### DATASET Final\n",
        "\n",
        "Validado alguns pontos entendo que não precisamos fazer grandes mudanças, manterei os valores substituídos das colunas \"*sex*\" e \"*smoker*\" e as linhas duplicadas, tendo em mente a necessidade de mais características para um modelo totalmente acurado."
      ],
      "metadata": {
        "id": "VsSYiLJ20mFm"
      }
    },
    {
      "cell_type": "code",
      "source": [
        "#Montando df para análise:\n",
        "df = dataset_insure\n",
        "\n",
        "#Preview do dataset final\n",
        "df.head()"
      ],
      "metadata": {
        "colab": {
          "base_uri": "https://localhost:8080/",
          "height": 206
        },
        "id": "uO-jeLbO9aOh",
        "outputId": "37f6fe90-a75b-4a1c-fc68-1c37304e7fe7"
      },
      "execution_count": 17,
      "outputs": [
        {
          "output_type": "execute_result",
          "data": {
            "text/plain": [
              "   age  sex     bmi  children  smoker     region      charges\n",
              "0   19    0  27.900         0       1  southwest  16884.92400\n",
              "1   18    1  33.770         1       0  southeast   1725.55230\n",
              "2   28    1  33.000         3       0  southeast   4449.46200\n",
              "3   33    1  22.705         0       0  northwest  21984.47061\n",
              "4   32    1  28.880         0       0  northwest   3866.85520"
            ],
            "text/html": [
              "\n",
              "  <div id=\"df-86ee97ee-3065-49fd-8dbb-a889fca64584\" class=\"colab-df-container\">\n",
              "    <div>\n",
              "<style scoped>\n",
              "    .dataframe tbody tr th:only-of-type {\n",
              "        vertical-align: middle;\n",
              "    }\n",
              "\n",
              "    .dataframe tbody tr th {\n",
              "        vertical-align: top;\n",
              "    }\n",
              "\n",
              "    .dataframe thead th {\n",
              "        text-align: right;\n",
              "    }\n",
              "</style>\n",
              "<table border=\"1\" class=\"dataframe\">\n",
              "  <thead>\n",
              "    <tr style=\"text-align: right;\">\n",
              "      <th></th>\n",
              "      <th>age</th>\n",
              "      <th>sex</th>\n",
              "      <th>bmi</th>\n",
              "      <th>children</th>\n",
              "      <th>smoker</th>\n",
              "      <th>region</th>\n",
              "      <th>charges</th>\n",
              "    </tr>\n",
              "  </thead>\n",
              "  <tbody>\n",
              "    <tr>\n",
              "      <th>0</th>\n",
              "      <td>19</td>\n",
              "      <td>0</td>\n",
              "      <td>27.900</td>\n",
              "      <td>0</td>\n",
              "      <td>1</td>\n",
              "      <td>southwest</td>\n",
              "      <td>16884.92400</td>\n",
              "    </tr>\n",
              "    <tr>\n",
              "      <th>1</th>\n",
              "      <td>18</td>\n",
              "      <td>1</td>\n",
              "      <td>33.770</td>\n",
              "      <td>1</td>\n",
              "      <td>0</td>\n",
              "      <td>southeast</td>\n",
              "      <td>1725.55230</td>\n",
              "    </tr>\n",
              "    <tr>\n",
              "      <th>2</th>\n",
              "      <td>28</td>\n",
              "      <td>1</td>\n",
              "      <td>33.000</td>\n",
              "      <td>3</td>\n",
              "      <td>0</td>\n",
              "      <td>southeast</td>\n",
              "      <td>4449.46200</td>\n",
              "    </tr>\n",
              "    <tr>\n",
              "      <th>3</th>\n",
              "      <td>33</td>\n",
              "      <td>1</td>\n",
              "      <td>22.705</td>\n",
              "      <td>0</td>\n",
              "      <td>0</td>\n",
              "      <td>northwest</td>\n",
              "      <td>21984.47061</td>\n",
              "    </tr>\n",
              "    <tr>\n",
              "      <th>4</th>\n",
              "      <td>32</td>\n",
              "      <td>1</td>\n",
              "      <td>28.880</td>\n",
              "      <td>0</td>\n",
              "      <td>0</td>\n",
              "      <td>northwest</td>\n",
              "      <td>3866.85520</td>\n",
              "    </tr>\n",
              "  </tbody>\n",
              "</table>\n",
              "</div>\n",
              "    <div class=\"colab-df-buttons\">\n",
              "\n",
              "  <div class=\"colab-df-container\">\n",
              "    <button class=\"colab-df-convert\" onclick=\"convertToInteractive('df-86ee97ee-3065-49fd-8dbb-a889fca64584')\"\n",
              "            title=\"Convert this dataframe to an interactive table.\"\n",
              "            style=\"display:none;\">\n",
              "\n",
              "  <svg xmlns=\"http://www.w3.org/2000/svg\" height=\"24px\" viewBox=\"0 -960 960 960\">\n",
              "    <path d=\"M120-120v-720h720v720H120Zm60-500h600v-160H180v160Zm220 220h160v-160H400v160Zm0 220h160v-160H400v160ZM180-400h160v-160H180v160Zm440 0h160v-160H620v160ZM180-180h160v-160H180v160Zm440 0h160v-160H620v160Z\"/>\n",
              "  </svg>\n",
              "    </button>\n",
              "\n",
              "  <style>\n",
              "    .colab-df-container {\n",
              "      display:flex;\n",
              "      gap: 12px;\n",
              "    }\n",
              "\n",
              "    .colab-df-convert {\n",
              "      background-color: #E8F0FE;\n",
              "      border: none;\n",
              "      border-radius: 50%;\n",
              "      cursor: pointer;\n",
              "      display: none;\n",
              "      fill: #1967D2;\n",
              "      height: 32px;\n",
              "      padding: 0 0 0 0;\n",
              "      width: 32px;\n",
              "    }\n",
              "\n",
              "    .colab-df-convert:hover {\n",
              "      background-color: #E2EBFA;\n",
              "      box-shadow: 0px 1px 2px rgba(60, 64, 67, 0.3), 0px 1px 3px 1px rgba(60, 64, 67, 0.15);\n",
              "      fill: #174EA6;\n",
              "    }\n",
              "\n",
              "    .colab-df-buttons div {\n",
              "      margin-bottom: 4px;\n",
              "    }\n",
              "\n",
              "    [theme=dark] .colab-df-convert {\n",
              "      background-color: #3B4455;\n",
              "      fill: #D2E3FC;\n",
              "    }\n",
              "\n",
              "    [theme=dark] .colab-df-convert:hover {\n",
              "      background-color: #434B5C;\n",
              "      box-shadow: 0px 1px 3px 1px rgba(0, 0, 0, 0.15);\n",
              "      filter: drop-shadow(0px 1px 2px rgba(0, 0, 0, 0.3));\n",
              "      fill: #FFFFFF;\n",
              "    }\n",
              "  </style>\n",
              "\n",
              "    <script>\n",
              "      const buttonEl =\n",
              "        document.querySelector('#df-86ee97ee-3065-49fd-8dbb-a889fca64584 button.colab-df-convert');\n",
              "      buttonEl.style.display =\n",
              "        google.colab.kernel.accessAllowed ? 'block' : 'none';\n",
              "\n",
              "      async function convertToInteractive(key) {\n",
              "        const element = document.querySelector('#df-86ee97ee-3065-49fd-8dbb-a889fca64584');\n",
              "        const dataTable =\n",
              "          await google.colab.kernel.invokeFunction('convertToInteractive',\n",
              "                                                    [key], {});\n",
              "        if (!dataTable) return;\n",
              "\n",
              "        const docLinkHtml = 'Like what you see? Visit the ' +\n",
              "          '<a target=\"_blank\" href=https://colab.research.google.com/notebooks/data_table.ipynb>data table notebook</a>'\n",
              "          + ' to learn more about interactive tables.';\n",
              "        element.innerHTML = '';\n",
              "        dataTable['output_type'] = 'display_data';\n",
              "        await google.colab.output.renderOutput(dataTable, element);\n",
              "        const docLink = document.createElement('div');\n",
              "        docLink.innerHTML = docLinkHtml;\n",
              "        element.appendChild(docLink);\n",
              "      }\n",
              "    </script>\n",
              "  </div>\n",
              "\n",
              "\n",
              "    <div id=\"df-42427d17-903b-48aa-81de-a6112f958730\">\n",
              "      <button class=\"colab-df-quickchart\" onclick=\"quickchart('df-42427d17-903b-48aa-81de-a6112f958730')\"\n",
              "                title=\"Suggest charts\"\n",
              "                style=\"display:none;\">\n",
              "\n",
              "<svg xmlns=\"http://www.w3.org/2000/svg\" height=\"24px\"viewBox=\"0 0 24 24\"\n",
              "     width=\"24px\">\n",
              "    <g>\n",
              "        <path d=\"M19 3H5c-1.1 0-2 .9-2 2v14c0 1.1.9 2 2 2h14c1.1 0 2-.9 2-2V5c0-1.1-.9-2-2-2zM9 17H7v-7h2v7zm4 0h-2V7h2v10zm4 0h-2v-4h2v4z\"/>\n",
              "    </g>\n",
              "</svg>\n",
              "      </button>\n",
              "\n",
              "<style>\n",
              "  .colab-df-quickchart {\n",
              "      --bg-color: #E8F0FE;\n",
              "      --fill-color: #1967D2;\n",
              "      --hover-bg-color: #E2EBFA;\n",
              "      --hover-fill-color: #174EA6;\n",
              "      --disabled-fill-color: #AAA;\n",
              "      --disabled-bg-color: #DDD;\n",
              "  }\n",
              "\n",
              "  [theme=dark] .colab-df-quickchart {\n",
              "      --bg-color: #3B4455;\n",
              "      --fill-color: #D2E3FC;\n",
              "      --hover-bg-color: #434B5C;\n",
              "      --hover-fill-color: #FFFFFF;\n",
              "      --disabled-bg-color: #3B4455;\n",
              "      --disabled-fill-color: #666;\n",
              "  }\n",
              "\n",
              "  .colab-df-quickchart {\n",
              "    background-color: var(--bg-color);\n",
              "    border: none;\n",
              "    border-radius: 50%;\n",
              "    cursor: pointer;\n",
              "    display: none;\n",
              "    fill: var(--fill-color);\n",
              "    height: 32px;\n",
              "    padding: 0;\n",
              "    width: 32px;\n",
              "  }\n",
              "\n",
              "  .colab-df-quickchart:hover {\n",
              "    background-color: var(--hover-bg-color);\n",
              "    box-shadow: 0 1px 2px rgba(60, 64, 67, 0.3), 0 1px 3px 1px rgba(60, 64, 67, 0.15);\n",
              "    fill: var(--button-hover-fill-color);\n",
              "  }\n",
              "\n",
              "  .colab-df-quickchart-complete:disabled,\n",
              "  .colab-df-quickchart-complete:disabled:hover {\n",
              "    background-color: var(--disabled-bg-color);\n",
              "    fill: var(--disabled-fill-color);\n",
              "    box-shadow: none;\n",
              "  }\n",
              "\n",
              "  .colab-df-spinner {\n",
              "    border: 2px solid var(--fill-color);\n",
              "    border-color: transparent;\n",
              "    border-bottom-color: var(--fill-color);\n",
              "    animation:\n",
              "      spin 1s steps(1) infinite;\n",
              "  }\n",
              "\n",
              "  @keyframes spin {\n",
              "    0% {\n",
              "      border-color: transparent;\n",
              "      border-bottom-color: var(--fill-color);\n",
              "      border-left-color: var(--fill-color);\n",
              "    }\n",
              "    20% {\n",
              "      border-color: transparent;\n",
              "      border-left-color: var(--fill-color);\n",
              "      border-top-color: var(--fill-color);\n",
              "    }\n",
              "    30% {\n",
              "      border-color: transparent;\n",
              "      border-left-color: var(--fill-color);\n",
              "      border-top-color: var(--fill-color);\n",
              "      border-right-color: var(--fill-color);\n",
              "    }\n",
              "    40% {\n",
              "      border-color: transparent;\n",
              "      border-right-color: var(--fill-color);\n",
              "      border-top-color: var(--fill-color);\n",
              "    }\n",
              "    60% {\n",
              "      border-color: transparent;\n",
              "      border-right-color: var(--fill-color);\n",
              "    }\n",
              "    80% {\n",
              "      border-color: transparent;\n",
              "      border-right-color: var(--fill-color);\n",
              "      border-bottom-color: var(--fill-color);\n",
              "    }\n",
              "    90% {\n",
              "      border-color: transparent;\n",
              "      border-bottom-color: var(--fill-color);\n",
              "    }\n",
              "  }\n",
              "</style>\n",
              "\n",
              "      <script>\n",
              "        async function quickchart(key) {\n",
              "          const quickchartButtonEl =\n",
              "            document.querySelector('#' + key + ' button');\n",
              "          quickchartButtonEl.disabled = true;  // To prevent multiple clicks.\n",
              "          quickchartButtonEl.classList.add('colab-df-spinner');\n",
              "          try {\n",
              "            const charts = await google.colab.kernel.invokeFunction(\n",
              "                'suggestCharts', [key], {});\n",
              "          } catch (error) {\n",
              "            console.error('Error during call to suggestCharts:', error);\n",
              "          }\n",
              "          quickchartButtonEl.classList.remove('colab-df-spinner');\n",
              "          quickchartButtonEl.classList.add('colab-df-quickchart-complete');\n",
              "        }\n",
              "        (() => {\n",
              "          let quickchartButtonEl =\n",
              "            document.querySelector('#df-42427d17-903b-48aa-81de-a6112f958730 button');\n",
              "          quickchartButtonEl.style.display =\n",
              "            google.colab.kernel.accessAllowed ? 'block' : 'none';\n",
              "        })();\n",
              "      </script>\n",
              "    </div>\n",
              "\n",
              "    </div>\n",
              "  </div>\n"
            ],
            "application/vnd.google.colaboratory.intrinsic+json": {
              "type": "dataframe",
              "variable_name": "df",
              "summary": "{\n  \"name\": \"df\",\n  \"rows\": 1338,\n  \"fields\": [\n    {\n      \"column\": \"age\",\n      \"properties\": {\n        \"dtype\": \"number\",\n        \"std\": 14,\n        \"min\": 18,\n        \"max\": 64,\n        \"num_unique_values\": 47,\n        \"samples\": [\n          21,\n          45,\n          36\n        ],\n        \"semantic_type\": \"\",\n        \"description\": \"\"\n      }\n    },\n    {\n      \"column\": \"sex\",\n      \"properties\": {\n        \"dtype\": \"number\",\n        \"std\": 0,\n        \"min\": 0,\n        \"max\": 1,\n        \"num_unique_values\": 2,\n        \"samples\": [\n          1,\n          0\n        ],\n        \"semantic_type\": \"\",\n        \"description\": \"\"\n      }\n    },\n    {\n      \"column\": \"bmi\",\n      \"properties\": {\n        \"dtype\": \"number\",\n        \"std\": 6.098186911679017,\n        \"min\": 15.96,\n        \"max\": 53.13,\n        \"num_unique_values\": 548,\n        \"samples\": [\n          23.18,\n          26.885\n        ],\n        \"semantic_type\": \"\",\n        \"description\": \"\"\n      }\n    },\n    {\n      \"column\": \"children\",\n      \"properties\": {\n        \"dtype\": \"number\",\n        \"std\": 1,\n        \"min\": 0,\n        \"max\": 5,\n        \"num_unique_values\": 6,\n        \"samples\": [\n          0,\n          1\n        ],\n        \"semantic_type\": \"\",\n        \"description\": \"\"\n      }\n    },\n    {\n      \"column\": \"smoker\",\n      \"properties\": {\n        \"dtype\": \"number\",\n        \"std\": 0,\n        \"min\": 0,\n        \"max\": 1,\n        \"num_unique_values\": 2,\n        \"samples\": [\n          0,\n          1\n        ],\n        \"semantic_type\": \"\",\n        \"description\": \"\"\n      }\n    },\n    {\n      \"column\": \"region\",\n      \"properties\": {\n        \"dtype\": \"category\",\n        \"num_unique_values\": 4,\n        \"samples\": [\n          \"southeast\",\n          \"northeast\"\n        ],\n        \"semantic_type\": \"\",\n        \"description\": \"\"\n      }\n    },\n    {\n      \"column\": \"charges\",\n      \"properties\": {\n        \"dtype\": \"number\",\n        \"std\": 12110.011236693994,\n        \"min\": 1121.8739,\n        \"max\": 63770.42801,\n        \"num_unique_values\": 1337,\n        \"samples\": [\n          8688.85885,\n          5708.867\n        ],\n        \"semantic_type\": \"\",\n        \"description\": \"\"\n      }\n    }\n  ]\n}"
            }
          },
          "metadata": {},
          "execution_count": 17
        }
      ]
    },
    {
      "cell_type": "markdown",
      "source": [
        "# Análise de Dados\n",
        "\n",
        "Nesta etapa vamos realizar a Análise de Dados Exploratória (EDA) dos datasets, visamos entender a distribuição, as relações e as características das variáveis, o que é crucial para as etapas subsequentes de pré-processamento e modelagem.\n",
        "\n",
        "Todo o tratamento realizado até aqui ajudará a entender melhor as variáveis do dataset\n",
        "\n",
        "Vamos abordar agora os dados de forma mais visual já focando em nossas hipóteses inicias."
      ],
      "metadata": {
        "id": "Qd7e9xWg1JHe"
      }
    },
    {
      "cell_type": "markdown",
      "source": [
        "## Estatísticas Descritivas\n",
        "\n",
        "Estatísticas descritivas fornecem um resumo das características numéricas, incluindo média, desvio padrão, mínimo, máximo e quartis."
      ],
      "metadata": {
        "id": "0apXX5-g1QG_"
      }
    },
    {
      "cell_type": "code",
      "source": [
        "#Describe dos dados\n",
        "df.describe()"
      ],
      "metadata": {
        "colab": {
          "base_uri": "https://localhost:8080/",
          "height": 300
        },
        "id": "ySrR6fIPJUif",
        "outputId": "45c4b1bf-e050-428d-9540-32b779c45036"
      },
      "execution_count": 18,
      "outputs": [
        {
          "output_type": "execute_result",
          "data": {
            "text/plain": [
              "               age          sex          bmi     children       smoker  \\\n",
              "count  1338.000000  1338.000000  1338.000000  1338.000000  1338.000000   \n",
              "mean     39.207025     0.505232    30.663397     1.094918     0.204783   \n",
              "std      14.049960     0.500160     6.098187     1.205493     0.403694   \n",
              "min      18.000000     0.000000    15.960000     0.000000     0.000000   \n",
              "25%      27.000000     0.000000    26.296250     0.000000     0.000000   \n",
              "50%      39.000000     1.000000    30.400000     1.000000     0.000000   \n",
              "75%      51.000000     1.000000    34.693750     2.000000     0.000000   \n",
              "max      64.000000     1.000000    53.130000     5.000000     1.000000   \n",
              "\n",
              "            charges  \n",
              "count   1338.000000  \n",
              "mean   13270.422265  \n",
              "std    12110.011237  \n",
              "min     1121.873900  \n",
              "25%     4740.287150  \n",
              "50%     9382.033000  \n",
              "75%    16639.912515  \n",
              "max    63770.428010  "
            ],
            "text/html": [
              "\n",
              "  <div id=\"df-f9aa2226-3604-43ed-9df0-327913fc5553\" class=\"colab-df-container\">\n",
              "    <div>\n",
              "<style scoped>\n",
              "    .dataframe tbody tr th:only-of-type {\n",
              "        vertical-align: middle;\n",
              "    }\n",
              "\n",
              "    .dataframe tbody tr th {\n",
              "        vertical-align: top;\n",
              "    }\n",
              "\n",
              "    .dataframe thead th {\n",
              "        text-align: right;\n",
              "    }\n",
              "</style>\n",
              "<table border=\"1\" class=\"dataframe\">\n",
              "  <thead>\n",
              "    <tr style=\"text-align: right;\">\n",
              "      <th></th>\n",
              "      <th>age</th>\n",
              "      <th>sex</th>\n",
              "      <th>bmi</th>\n",
              "      <th>children</th>\n",
              "      <th>smoker</th>\n",
              "      <th>charges</th>\n",
              "    </tr>\n",
              "  </thead>\n",
              "  <tbody>\n",
              "    <tr>\n",
              "      <th>count</th>\n",
              "      <td>1338.000000</td>\n",
              "      <td>1338.000000</td>\n",
              "      <td>1338.000000</td>\n",
              "      <td>1338.000000</td>\n",
              "      <td>1338.000000</td>\n",
              "      <td>1338.000000</td>\n",
              "    </tr>\n",
              "    <tr>\n",
              "      <th>mean</th>\n",
              "      <td>39.207025</td>\n",
              "      <td>0.505232</td>\n",
              "      <td>30.663397</td>\n",
              "      <td>1.094918</td>\n",
              "      <td>0.204783</td>\n",
              "      <td>13270.422265</td>\n",
              "    </tr>\n",
              "    <tr>\n",
              "      <th>std</th>\n",
              "      <td>14.049960</td>\n",
              "      <td>0.500160</td>\n",
              "      <td>6.098187</td>\n",
              "      <td>1.205493</td>\n",
              "      <td>0.403694</td>\n",
              "      <td>12110.011237</td>\n",
              "    </tr>\n",
              "    <tr>\n",
              "      <th>min</th>\n",
              "      <td>18.000000</td>\n",
              "      <td>0.000000</td>\n",
              "      <td>15.960000</td>\n",
              "      <td>0.000000</td>\n",
              "      <td>0.000000</td>\n",
              "      <td>1121.873900</td>\n",
              "    </tr>\n",
              "    <tr>\n",
              "      <th>25%</th>\n",
              "      <td>27.000000</td>\n",
              "      <td>0.000000</td>\n",
              "      <td>26.296250</td>\n",
              "      <td>0.000000</td>\n",
              "      <td>0.000000</td>\n",
              "      <td>4740.287150</td>\n",
              "    </tr>\n",
              "    <tr>\n",
              "      <th>50%</th>\n",
              "      <td>39.000000</td>\n",
              "      <td>1.000000</td>\n",
              "      <td>30.400000</td>\n",
              "      <td>1.000000</td>\n",
              "      <td>0.000000</td>\n",
              "      <td>9382.033000</td>\n",
              "    </tr>\n",
              "    <tr>\n",
              "      <th>75%</th>\n",
              "      <td>51.000000</td>\n",
              "      <td>1.000000</td>\n",
              "      <td>34.693750</td>\n",
              "      <td>2.000000</td>\n",
              "      <td>0.000000</td>\n",
              "      <td>16639.912515</td>\n",
              "    </tr>\n",
              "    <tr>\n",
              "      <th>max</th>\n",
              "      <td>64.000000</td>\n",
              "      <td>1.000000</td>\n",
              "      <td>53.130000</td>\n",
              "      <td>5.000000</td>\n",
              "      <td>1.000000</td>\n",
              "      <td>63770.428010</td>\n",
              "    </tr>\n",
              "  </tbody>\n",
              "</table>\n",
              "</div>\n",
              "    <div class=\"colab-df-buttons\">\n",
              "\n",
              "  <div class=\"colab-df-container\">\n",
              "    <button class=\"colab-df-convert\" onclick=\"convertToInteractive('df-f9aa2226-3604-43ed-9df0-327913fc5553')\"\n",
              "            title=\"Convert this dataframe to an interactive table.\"\n",
              "            style=\"display:none;\">\n",
              "\n",
              "  <svg xmlns=\"http://www.w3.org/2000/svg\" height=\"24px\" viewBox=\"0 -960 960 960\">\n",
              "    <path d=\"M120-120v-720h720v720H120Zm60-500h600v-160H180v160Zm220 220h160v-160H400v160Zm0 220h160v-160H400v160ZM180-400h160v-160H180v160Zm440 0h160v-160H620v160ZM180-180h160v-160H180v160Zm440 0h160v-160H620v160Z\"/>\n",
              "  </svg>\n",
              "    </button>\n",
              "\n",
              "  <style>\n",
              "    .colab-df-container {\n",
              "      display:flex;\n",
              "      gap: 12px;\n",
              "    }\n",
              "\n",
              "    .colab-df-convert {\n",
              "      background-color: #E8F0FE;\n",
              "      border: none;\n",
              "      border-radius: 50%;\n",
              "      cursor: pointer;\n",
              "      display: none;\n",
              "      fill: #1967D2;\n",
              "      height: 32px;\n",
              "      padding: 0 0 0 0;\n",
              "      width: 32px;\n",
              "    }\n",
              "\n",
              "    .colab-df-convert:hover {\n",
              "      background-color: #E2EBFA;\n",
              "      box-shadow: 0px 1px 2px rgba(60, 64, 67, 0.3), 0px 1px 3px 1px rgba(60, 64, 67, 0.15);\n",
              "      fill: #174EA6;\n",
              "    }\n",
              "\n",
              "    .colab-df-buttons div {\n",
              "      margin-bottom: 4px;\n",
              "    }\n",
              "\n",
              "    [theme=dark] .colab-df-convert {\n",
              "      background-color: #3B4455;\n",
              "      fill: #D2E3FC;\n",
              "    }\n",
              "\n",
              "    [theme=dark] .colab-df-convert:hover {\n",
              "      background-color: #434B5C;\n",
              "      box-shadow: 0px 1px 3px 1px rgba(0, 0, 0, 0.15);\n",
              "      filter: drop-shadow(0px 1px 2px rgba(0, 0, 0, 0.3));\n",
              "      fill: #FFFFFF;\n",
              "    }\n",
              "  </style>\n",
              "\n",
              "    <script>\n",
              "      const buttonEl =\n",
              "        document.querySelector('#df-f9aa2226-3604-43ed-9df0-327913fc5553 button.colab-df-convert');\n",
              "      buttonEl.style.display =\n",
              "        google.colab.kernel.accessAllowed ? 'block' : 'none';\n",
              "\n",
              "      async function convertToInteractive(key) {\n",
              "        const element = document.querySelector('#df-f9aa2226-3604-43ed-9df0-327913fc5553');\n",
              "        const dataTable =\n",
              "          await google.colab.kernel.invokeFunction('convertToInteractive',\n",
              "                                                    [key], {});\n",
              "        if (!dataTable) return;\n",
              "\n",
              "        const docLinkHtml = 'Like what you see? Visit the ' +\n",
              "          '<a target=\"_blank\" href=https://colab.research.google.com/notebooks/data_table.ipynb>data table notebook</a>'\n",
              "          + ' to learn more about interactive tables.';\n",
              "        element.innerHTML = '';\n",
              "        dataTable['output_type'] = 'display_data';\n",
              "        await google.colab.output.renderOutput(dataTable, element);\n",
              "        const docLink = document.createElement('div');\n",
              "        docLink.innerHTML = docLinkHtml;\n",
              "        element.appendChild(docLink);\n",
              "      }\n",
              "    </script>\n",
              "  </div>\n",
              "\n",
              "\n",
              "    <div id=\"df-7fd07d6c-e34c-4a97-b58e-9951d91c1786\">\n",
              "      <button class=\"colab-df-quickchart\" onclick=\"quickchart('df-7fd07d6c-e34c-4a97-b58e-9951d91c1786')\"\n",
              "                title=\"Suggest charts\"\n",
              "                style=\"display:none;\">\n",
              "\n",
              "<svg xmlns=\"http://www.w3.org/2000/svg\" height=\"24px\"viewBox=\"0 0 24 24\"\n",
              "     width=\"24px\">\n",
              "    <g>\n",
              "        <path d=\"M19 3H5c-1.1 0-2 .9-2 2v14c0 1.1.9 2 2 2h14c1.1 0 2-.9 2-2V5c0-1.1-.9-2-2-2zM9 17H7v-7h2v7zm4 0h-2V7h2v10zm4 0h-2v-4h2v4z\"/>\n",
              "    </g>\n",
              "</svg>\n",
              "      </button>\n",
              "\n",
              "<style>\n",
              "  .colab-df-quickchart {\n",
              "      --bg-color: #E8F0FE;\n",
              "      --fill-color: #1967D2;\n",
              "      --hover-bg-color: #E2EBFA;\n",
              "      --hover-fill-color: #174EA6;\n",
              "      --disabled-fill-color: #AAA;\n",
              "      --disabled-bg-color: #DDD;\n",
              "  }\n",
              "\n",
              "  [theme=dark] .colab-df-quickchart {\n",
              "      --bg-color: #3B4455;\n",
              "      --fill-color: #D2E3FC;\n",
              "      --hover-bg-color: #434B5C;\n",
              "      --hover-fill-color: #FFFFFF;\n",
              "      --disabled-bg-color: #3B4455;\n",
              "      --disabled-fill-color: #666;\n",
              "  }\n",
              "\n",
              "  .colab-df-quickchart {\n",
              "    background-color: var(--bg-color);\n",
              "    border: none;\n",
              "    border-radius: 50%;\n",
              "    cursor: pointer;\n",
              "    display: none;\n",
              "    fill: var(--fill-color);\n",
              "    height: 32px;\n",
              "    padding: 0;\n",
              "    width: 32px;\n",
              "  }\n",
              "\n",
              "  .colab-df-quickchart:hover {\n",
              "    background-color: var(--hover-bg-color);\n",
              "    box-shadow: 0 1px 2px rgba(60, 64, 67, 0.3), 0 1px 3px 1px rgba(60, 64, 67, 0.15);\n",
              "    fill: var(--button-hover-fill-color);\n",
              "  }\n",
              "\n",
              "  .colab-df-quickchart-complete:disabled,\n",
              "  .colab-df-quickchart-complete:disabled:hover {\n",
              "    background-color: var(--disabled-bg-color);\n",
              "    fill: var(--disabled-fill-color);\n",
              "    box-shadow: none;\n",
              "  }\n",
              "\n",
              "  .colab-df-spinner {\n",
              "    border: 2px solid var(--fill-color);\n",
              "    border-color: transparent;\n",
              "    border-bottom-color: var(--fill-color);\n",
              "    animation:\n",
              "      spin 1s steps(1) infinite;\n",
              "  }\n",
              "\n",
              "  @keyframes spin {\n",
              "    0% {\n",
              "      border-color: transparent;\n",
              "      border-bottom-color: var(--fill-color);\n",
              "      border-left-color: var(--fill-color);\n",
              "    }\n",
              "    20% {\n",
              "      border-color: transparent;\n",
              "      border-left-color: var(--fill-color);\n",
              "      border-top-color: var(--fill-color);\n",
              "    }\n",
              "    30% {\n",
              "      border-color: transparent;\n",
              "      border-left-color: var(--fill-color);\n",
              "      border-top-color: var(--fill-color);\n",
              "      border-right-color: var(--fill-color);\n",
              "    }\n",
              "    40% {\n",
              "      border-color: transparent;\n",
              "      border-right-color: var(--fill-color);\n",
              "      border-top-color: var(--fill-color);\n",
              "    }\n",
              "    60% {\n",
              "      border-color: transparent;\n",
              "      border-right-color: var(--fill-color);\n",
              "    }\n",
              "    80% {\n",
              "      border-color: transparent;\n",
              "      border-right-color: var(--fill-color);\n",
              "      border-bottom-color: var(--fill-color);\n",
              "    }\n",
              "    90% {\n",
              "      border-color: transparent;\n",
              "      border-bottom-color: var(--fill-color);\n",
              "    }\n",
              "  }\n",
              "</style>\n",
              "\n",
              "      <script>\n",
              "        async function quickchart(key) {\n",
              "          const quickchartButtonEl =\n",
              "            document.querySelector('#' + key + ' button');\n",
              "          quickchartButtonEl.disabled = true;  // To prevent multiple clicks.\n",
              "          quickchartButtonEl.classList.add('colab-df-spinner');\n",
              "          try {\n",
              "            const charts = await google.colab.kernel.invokeFunction(\n",
              "                'suggestCharts', [key], {});\n",
              "          } catch (error) {\n",
              "            console.error('Error during call to suggestCharts:', error);\n",
              "          }\n",
              "          quickchartButtonEl.classList.remove('colab-df-spinner');\n",
              "          quickchartButtonEl.classList.add('colab-df-quickchart-complete');\n",
              "        }\n",
              "        (() => {\n",
              "          let quickchartButtonEl =\n",
              "            document.querySelector('#df-7fd07d6c-e34c-4a97-b58e-9951d91c1786 button');\n",
              "          quickchartButtonEl.style.display =\n",
              "            google.colab.kernel.accessAllowed ? 'block' : 'none';\n",
              "        })();\n",
              "      </script>\n",
              "    </div>\n",
              "\n",
              "    </div>\n",
              "  </div>\n"
            ],
            "application/vnd.google.colaboratory.intrinsic+json": {
              "type": "dataframe",
              "summary": "{\n  \"name\": \"df\",\n  \"rows\": 8,\n  \"fields\": [\n    {\n      \"column\": \"age\",\n      \"properties\": {\n        \"dtype\": \"number\",\n        \"std\": 460.6106090399993,\n        \"min\": 14.049960379216172,\n        \"max\": 1338.0,\n        \"num_unique_values\": 8,\n        \"samples\": [\n          39.20702541106129,\n          39.0,\n          1338.0\n        ],\n        \"semantic_type\": \"\",\n        \"description\": \"\"\n      }\n    },\n    {\n      \"column\": \"sex\",\n      \"properties\": {\n        \"dtype\": \"number\",\n        \"std\": 472.85231712114296,\n        \"min\": 0.0,\n        \"max\": 1338.0,\n        \"num_unique_values\": 5,\n        \"samples\": [\n          0.5052316890881914,\n          1.0,\n          0.5001595692843718\n        ],\n        \"semantic_type\": \"\",\n        \"description\": \"\"\n      }\n    },\n    {\n      \"column\": \"bmi\",\n      \"properties\": {\n        \"dtype\": \"number\",\n        \"std\": 463.29524977918294,\n        \"min\": 6.098186911679017,\n        \"max\": 1338.0,\n        \"num_unique_values\": 8,\n        \"samples\": [\n          30.66339686098655,\n          30.4,\n          1338.0\n        ],\n        \"semantic_type\": \"\",\n        \"description\": \"\"\n      }\n    },\n    {\n      \"column\": \"children\",\n      \"properties\": {\n        \"dtype\": \"number\",\n        \"std\": 472.5368318870757,\n        \"min\": 0.0,\n        \"max\": 1338.0,\n        \"num_unique_values\": 7,\n        \"samples\": [\n          1338.0,\n          1.0949177877429,\n          2.0\n        ],\n        \"semantic_type\": \"\",\n        \"description\": \"\"\n      }\n    },\n    {\n      \"column\": \"smoker\",\n      \"properties\": {\n        \"dtype\": \"number\",\n        \"std\": 472.9733223901744,\n        \"min\": 0.0,\n        \"max\": 1338.0,\n        \"num_unique_values\": 5,\n        \"samples\": [\n          0.20478325859491778,\n          1.0,\n          0.40369403754562083\n        ],\n        \"semantic_type\": \"\",\n        \"description\": \"\"\n      }\n    },\n    {\n      \"column\": \"charges\",\n      \"properties\": {\n        \"dtype\": \"number\",\n        \"std\": 20381.922846226596,\n        \"min\": 1121.8739,\n        \"max\": 63770.42801,\n        \"num_unique_values\": 8,\n        \"samples\": [\n          13270.422265141257,\n          9382.033,\n          1338.0\n        ],\n        \"semantic_type\": \"\",\n        \"description\": \"\"\n      }\n    }\n  ]\n}"
            }
          },
          "metadata": {},
          "execution_count": 18
        }
      ]
    },
    {
      "cell_type": "markdown",
      "source": [
        "Como alteramos os tipos das colunas sex e smoker, podemos também usar os describe para entender um pouco da distribuição, vendo que a base está bem distribuída com relação a gênero, aproximadamente 50% para cada categoria e uma baixa relação de fumantes, em torno de 20% da base.\n",
        "\n",
        "Na média as pessoas possuem 1 filho, e 75% da base tem até dois filhos.\n",
        "\n",
        "A base não aparenta ter *outliers* discrepantes, sendo o maior valor do \"*bmi*\" (IMC em português) o único que se destaca, tendo em mente a tabela de comparação oferecida pela OMS (Organização Mundial da Saúde), como segue:"
      ],
      "metadata": {
        "id": "oONsIwv_KDzb"
      }
    },
    {
      "cell_type": "markdown",
      "source": [
        "### Tabela OMS de IMC (Índice de Massa Corporal)  sobre obesidade adulta"
      ],
      "metadata": {
        "id": "VXIzZOMVLcyL"
      }
    },
    {
      "cell_type": "markdown",
      "source": [
        "Segundo [OMS](https://www.who.int/data/gho/data/themes/topics/topic-details/GHO/body-mass-index) é considerado sobrepeso um índice maior que 25 e obesidade acima do índice 30, de acordo com alguns graus, como segue tabela:"
      ],
      "metadata": {
        "id": "VOQuTZqLMqDd"
      }
    },
    {
      "cell_type": "markdown",
      "source": [
        "![IMC.png](data:image/png;base64,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)"
      ],
      "metadata": {
        "id": "1JJNdargNP9t"
      }
    },
    {
      "cell_type": "markdown",
      "source": [
        "Imagem pode ser encontrada na [cartilha informativa sobre obesidade](https://www.gov.br/conitec/pt-br/midias/protocolos/resumidos/PCDTResumidodeSobrepesoObesidade.pdf.pdf) no portal do ministério da saúde, lembrando que o IMC não leva em conta outros fatores de extrema importância para atestar riscos à saúde como massa múscular, etnia, e demais outros."
      ],
      "metadata": {
        "id": "OUcGo1wTN8eT"
      }
    },
    {
      "cell_type": "markdown",
      "source": [
        "## Correlação\n",
        "\n",
        "A correlação é uma medida estatística que indica o grau de relação entre duas variáveis variado de [-1,1] nos mostra se as variáveis estão fortemente correlacionadas (1) ou fortemente inversamente correlacionadas(-1)"
      ],
      "metadata": {
        "id": "2LX7g29w1Vf0"
      }
    },
    {
      "cell_type": "markdown",
      "source": [
        "# Pré-Processamento de Dados\n",
        "\n",
        "Como parte obrigatória do estudo iremos agora para o pré processamento voltado para a aplicação do modelo, nele iremos fazer mais algumas transformações, split entre teste e treino e as conclusões finais sobre as hipóteses levantadas.\n",
        "\n",
        "Mesmo com a comprovação da baixa correlação entre as variáveis podemos aida aplicar modelos de **classificação não supervisionada**, ou outros tipos de modelos que possam adentrar mais nos ddados."
      ],
      "metadata": {
        "id": "MYHBVQMH1e84"
      }
    },
    {
      "cell_type": "markdown",
      "source": [
        "# **Aplicação do Modelo**"
      ],
      "metadata": {
        "id": "qUqXvf4u1lry"
      }
    },
    {
      "cell_type": "markdown",
      "source": [
        "## Validação dos Resultados dos Modelos"
      ],
      "metadata": {
        "id": "MRZhi9pc1vFO"
      }
    },
    {
      "cell_type": "markdown",
      "source": [
        "# **Conclusão**"
      ],
      "metadata": {
        "id": "SlD2cGfp2AsX"
      }
    },
    {
      "cell_type": "code",
      "source": [
        "import kagglehub\n",
        "\n",
        "# Download latest version\n",
        "path = kagglehub.dataset_download(\"mosapabdelghany/medical-insurance-cost-dataset\")\n",
        "\n",
        "print(\"Path to dataset files:\", path)\n",
        "\n"
      ],
      "metadata": {
        "colab": {
          "base_uri": "https://localhost:8080/"
        },
        "id": "7WF-ERpksoG3",
        "outputId": "68bfbb52-a7eb-4eaf-9f43-75b6022710e2"
      },
      "execution_count": 18,
      "outputs": [
        {
          "output_type": "stream",
          "name": "stdout",
          "text": [
            "Using Colab cache for faster access to the 'medical-insurance-cost-dataset' dataset.\n",
            "Path to dataset files: /kaggle/input/medical-insurance-cost-dataset\n"
          ]
        }
      ]
    },
    {
      "cell_type": "markdown",
      "source": [
        "Preparação de Dados\n",
        "\n",
        "Objetivo: realizar operações de preparação dos dados.\n",
        "\n",
        "Separe o dataset entre treino e teste (e validação, se aplicável).\n",
        "Faz sentido utilizar um método de validação cruzada? Justifique se não utilizar.\n",
        "Verifique quais operações de transformação de dados (como normalização e padronização, transformação de imagens em tensores) são mais apropriadas para o seu problema e salve visões diferentes do seu dataset para posterior avaliação dos modelos.\n",
        "Refine a quantidade de atributos disponíveis, realizando o processo de feature selection de forma adequada.\n",
        "Modelagem e treinamento:\n",
        "\n",
        "Objetivo: construir modelos para resolver o problema em questão.\n",
        "\n",
        "Selecione os algoritmos mais indicados para o problema e dataset escolhidos, justificando as suas escolhas.\n",
        "Há algum ajuste inicial para os hiperparâmetros?\n",
        "O modelo foi devidamente treinado? Foi observado problema de underfitting?\n",
        "É possível otimizar os hiperparâmetros de algum dos modelos? Se sim, faça-o, justificando todas as escolhas.\n",
        "Há algum método avançado ou mais complexo que possa ser avaliado?\n",
        "Posso criar um comitê de modelos diferentes para o problema (ensembles)?\n",
        "Avaliação de Resultados:\n",
        "\n",
        "Objetivo: analisar o desempenho dos modelos gerados em dados não vistos (com a base de teste)\n",
        "\n",
        "Selecione as métricas de avaliação condizentes com o problema, justificando.\n",
        "Treine o modelo escolhido com toda a base de treino, e teste-o com a base de teste.\n",
        "Os resultados fazem sentido?\n",
        "Foi observado algum problema de overfitting?\n",
        "Compare os resultados de diferentes modelos.\n",
        "Descreva a melhor solução encontrada, justificando."
      ],
      "metadata": {
        "id": "WEGE5sHcCGTz"
      }
    }
  ]
}